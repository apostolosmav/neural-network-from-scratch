{
 "cells": [
  {
   "cell_type": "markdown",
   "id": "7862789b",
   "metadata": {},
   "source": [
    "# Skip-gram Model with Simple Neural Network\n",
    "# \n",
    "This notebook demonstrates training a **skip-gram model** using a basic neural network. We will:\n",
    "1. Prepare the corpus and generate skip-gram pairs.\n",
    "2. One-hot encode the words.\n",
    "3. Organize data into Pandas DataFrames.\n",
    "4. Train a neural network. \n",
    "5. Extract embedded word vectors.\n",
    "6. Predict the next word in a sequence.\n"
   ]
  },
  {
   "cell_type": "code",
   "execution_count": 15,
   "id": "a0bffd93",
   "metadata": {},
   "outputs": [],
   "source": [
    "# ## 1. Import Libraries\n",
    "import numpy as np\n",
    "import pandas as pd\n",
    "from simpleNNClass import NeuronalNet  # Custom neural network class"
   ]
  },
  {
   "cell_type": "code",
   "execution_count": 16,
   "id": "32e4d891",
   "metadata": {},
   "outputs": [
    {
     "name": "stdout",
     "output_type": "stream",
     "text": [
      "Vocabulary: ['jagt', 'die', 'katze', 'und', 'hat', 'den', 'vor', 'maus', 'hund', 'der', 'angst']\n",
      "Skip-gram pairs (indices): [(1, 2), (2, 1), (2, 0), (0, 2), (0, 5), (5, 0), (5, 8), (8, 5), (8, 3), (3, 8), (3, 4), (4, 3), (4, 10), (10, 4), (10, 6), (6, 10), (6, 9), (9, 6), (9, 7), (7, 9)]\n"
     ]
    }
   ],
   "source": [
    "# ---\n",
    "# ## 2. Define Corpus and Skip-gram Pair Generator\n",
    "\n",
    "corpus = 'Die katze jagt den Hund und hat Angst vor der Maus'\n",
    "\n",
    "def skipgram_pairs(corpus: str, size: int = 1):\n",
    "    \"\"\"\n",
    "    Generate skip-gram pairs from a given corpus.\n",
    "    \n",
    "    Parameters:\n",
    "        corpus (str): Input text corpus.\n",
    "        size (int): Context window size (default=1).\n",
    "    \n",
    "    Returns:\n",
    "        pairs (list): List of tuples (target_index, context_index)\n",
    "        word_to_index (dict): Mapping of word -> index\n",
    "    \"\"\"\n",
    "    tokens = corpus.lower().split()\n",
    "    vocabulary = list(set(tokens))\n",
    "    word_to_index = {word: i for i, word in enumerate(vocabulary)}\n",
    "    pairs = []\n",
    "\n",
    "    # Generate skip-gram pairs\n",
    "    for index, target_word in enumerate(tokens):\n",
    "        start = max(index - size, 0)\n",
    "        end = min(index + size + 1, len(tokens))\n",
    "        for i in range(start, end):\n",
    "            if i != index:\n",
    "                context_word = tokens[i]\n",
    "                pairs.append((word_to_index[target_word], word_to_index[context_word]))\n",
    "\n",
    "    return pairs, word_to_index\n",
    "\n",
    "pairs, word_to_index = skipgram_pairs(corpus)\n",
    "vocabulary = list(word_to_index.keys())\n",
    "vocabulary_size = len(vocabulary)\n",
    "\n",
    "print(\"Vocabulary:\", vocabulary)\n",
    "print(\"Skip-gram pairs (indices):\", pairs)\n"
   ]
  },
  {
   "cell_type": "code",
   "execution_count": 17,
   "id": "1d8537b2",
   "metadata": {},
   "outputs": [],
   "source": [
    "# ---\n",
    "# ## 3. One-hot Encoding Function\n",
    "\n",
    "def one_hot_encoding(word_index, vocab_size):\n",
    "    \"\"\"\n",
    "    Convert a word index into a one-hot encoded vector.\n",
    "    \n",
    "    Parameters:\n",
    "        word_index (int): Index of the word.\n",
    "        vocab_size (int): Size of the vocabulary.\n",
    "    \n",
    "    Returns:\n",
    "        vector (np.array): One-hot encoded vector\n",
    "    \"\"\"\n",
    "    vector = np.zeros(vocab_size)\n",
    "    vector[word_index] = 1\n",
    "    return vector\n"
   ]
  },
  {
   "cell_type": "code",
   "execution_count": 18,
   "id": "fbc8655c",
   "metadata": {},
   "outputs": [
    {
     "name": "stdout",
     "output_type": "stream",
     "text": [
      "Training data preview:\n"
     ]
    },
    {
     "data": {
      "text/plain": [
       "(0    [0.0, 1.0, 0.0, 0.0, 0.0, 0.0, 0.0, 0.0, 0.0, ...\n",
       " 1    [0.0, 0.0, 1.0, 0.0, 0.0, 0.0, 0.0, 0.0, 0.0, ...\n",
       " 2    [0.0, 0.0, 1.0, 0.0, 0.0, 0.0, 0.0, 0.0, 0.0, ...\n",
       " 3    [1.0, 0.0, 0.0, 0.0, 0.0, 0.0, 0.0, 0.0, 0.0, ...\n",
       " 4    [1.0, 0.0, 0.0, 0.0, 0.0, 0.0, 0.0, 0.0, 0.0, ...\n",
       " Name: Input, dtype: object,\n",
       "     0    1    2    3    4    5    6    7    8    9    10\n",
       " 0  0.0  0.0  1.0  0.0  0.0  0.0  0.0  0.0  0.0  0.0  0.0\n",
       " 1  0.0  1.0  0.0  0.0  0.0  0.0  0.0  0.0  0.0  0.0  0.0\n",
       " 2  1.0  0.0  0.0  0.0  0.0  0.0  0.0  0.0  0.0  0.0  0.0\n",
       " 3  0.0  0.0  1.0  0.0  0.0  0.0  0.0  0.0  0.0  0.0  0.0\n",
       " 4  0.0  0.0  0.0  0.0  0.0  1.0  0.0  0.0  0.0  0.0  0.0)"
      ]
     },
     "execution_count": 18,
     "metadata": {},
     "output_type": "execute_result"
    }
   ],
   "source": [
    "# ---\n",
    "# ## 4. Prepare DataFrames for Training\n",
    "# Each row contains the input (target word) and label (context word)\n",
    "\n",
    "df = pd.DataFrame([{\n",
    "    'Input': one_hot_encoding(word, vocabulary_size),\n",
    "    'Label': one_hot_encoding(target, vocabulary_size)\n",
    "} for word, target in pairs])\n",
    "\n",
    "# Separate input and labels\n",
    "X_train = df['Input']\n",
    "y_train = df['Label'].apply(lambda x: pd.Series(x))\n",
    "\n",
    "print(\"Training data preview:\")\n",
    "X_train.head(), y_train.head()\n"
   ]
  },
  {
   "cell_type": "code",
   "execution_count": 19,
   "id": "cc7fbb7a",
   "metadata": {},
   "outputs": [],
   "source": [
    "# ---\n",
    "# ## 5. Initialize and Train Neural Network\n",
    "# \n",
    "# Here we define a neural network with:\n",
    "# - Input layer: size of vocabulary\n",
    "# - Hidden layer: 100 nodes\n",
    "# - Output layer: size of vocabulary\n",
    "# - Learning rate: 0.1\n",
    "neuron_net = NeuronalNet(input_nodes=vocabulary_size,\n",
    "                          hidden_nodes=100,\n",
    "                          output_nodes=vocabulary_size,\n",
    "                          learning_rate=0.1)\n",
    "\n",
    "# Train the network for 50 epochs\n",
    "neuron_net.fit(X_train, y_train, epochs=60)\n",
    "\n"
   ]
  },
  {
   "cell_type": "code",
   "execution_count": 20,
   "id": "837e3639",
   "metadata": {},
   "outputs": [
    {
     "name": "stdout",
     "output_type": "stream",
     "text": [
      "Embedded Vectors:\n",
      "jagt: [-0.33289458 -0.24408459 -0.39196057  0.29252954  0.05630495  0.51722744\n",
      "  0.4814653  -0.12848272 -0.15909312  0.18482232 -0.3668317 ]\n",
      "die: [-0.561499    0.22548386 -0.07748383  0.33507689 -0.46993966 -0.106491\n",
      " -0.04512251  0.44693989 -0.62873943  0.01159991  1.06134263]\n",
      "katze: [ 0.76498742  0.44771077 -0.52904238 -0.24207372 -0.26109509 -0.37494554\n",
      " -0.35938951  0.1763154   0.5674242   0.60251783 -0.24251596]\n",
      "und: [ 0.17488381 -0.8197503  -0.25608817 -0.26913693 -0.19396168  0.51569609\n",
      " -0.47607774  0.63427351  0.58310908 -0.02352937 -0.05663612]\n",
      "hat: [ 0.50064506  1.1964583  -0.12231794  0.54542961 -0.04204884  0.7745559\n",
      " -0.16801242  0.06432881  0.60285571  0.40518253  0.31992286]\n",
      "den: [-0.17747159 -0.14215708 -0.72424432 -0.07620901 -0.07684842 -0.57726373\n",
      "  0.65072079  0.86686387 -0.4537965   0.20439395 -0.2448095 ]\n",
      "vor: [-0.17326004  0.00364541  0.82045338  0.21761328  0.57562213  0.4611147\n",
      " -0.35069485 -0.37659732  0.02397705 -0.33255279 -0.17302424]\n",
      "maus: [-0.64747299 -0.23909291  0.40931066 -0.01140849  1.03312718  0.00146534\n",
      "  0.41131591 -0.4298987   0.51348926 -0.84288188 -0.16417447]\n",
      "hund: [ 0.5809794   0.24413801 -0.49207179  0.01083053  0.641784    0.17631045\n",
      "  0.61046929  0.15069728  0.32837651 -0.71236786 -0.71581727]\n",
      "der: [-0.25226472  0.44038435 -0.2694814  -0.46724498 -0.62201205  0.02458258\n",
      "  0.17330737  0.56355998 -0.91686312 -0.20027465  0.42829176]\n",
      "angst: [ 0.21387194 -0.12670016 -0.7001873   0.47194381 -0.21874671  0.05704811\n",
      " -0.18943546  0.2783007   0.10961545  0.3517657   1.15142435]\n"
     ]
    }
   ],
   "source": [
    "# ---\n",
    "# ## 6. Extract Embedded Word Vectors\n",
    "# \n",
    "# The learned weights between the input and hidden layer represent the **word embeddings**.\n",
    "\n",
    "embedded_vectors = neuron_net.weights_input_hidden\n",
    "print(\"Embedded Vectors:\")\n",
    "for word, idx in word_to_index.items():\n",
    "    print(f\"{word}: {embedded_vectors[idx]}\")\n"
   ]
  },
  {
   "cell_type": "code",
   "execution_count": 21,
   "id": "5a91e2e7",
   "metadata": {},
   "outputs": [
    {
     "name": "stdout",
     "output_type": "stream",
     "text": [
      "\n",
      "Starting from 'die' → generated sequence:\n",
      "katze jagt den hund und hat angst vor der maus\n"
     ]
    }
   ],
   "source": [
    "# ---\n",
    "# ## 7. Predict Next Words\n",
    "# \n",
    "# Function to generate a sequence starting from an input word.\n",
    "\n",
    "def predict_next_word(input_word, net, vocab):\n",
    "    \"\"\"\n",
    "    Generate a sequence of words using the trained neural network.\n",
    "    \n",
    "    Parameters:\n",
    "        input_word (str): Starting word\n",
    "        net (NeuronalNet): Trained neural network\n",
    "        vocab (list): Vocabulary list\n",
    "    \n",
    "    Returns:\n",
    "        generated_output (str): Generated word sequence\n",
    "    \"\"\"\n",
    "    generated_output = ''\n",
    "    current_word = input_word.lower()\n",
    "\n",
    "    for _ in range(vocabulary_size-1):\n",
    "        input_vector = one_hot_encoding(vocab.index(current_word), len(vocab))\n",
    "        df_input = pd.DataFrame([input_vector])\n",
    "        predicted_idx = net.predict(df_input)[0]\n",
    "        predicted_word = vocab[predicted_idx]\n",
    "        generated_output += predicted_word + ' '\n",
    "        current_word = predicted_word\n",
    "\n",
    "    return generated_output.strip()\n",
    "\n",
    "input_word = 'die'\n",
    "output_sequence = predict_next_word(input_word, neuron_net, vocabulary)\n",
    "print(f\"\\nStarting from '{input_word}' → generated sequence:\\n{output_sequence}\")\n"
   ]
  },
  {
   "cell_type": "code",
   "execution_count": 22,
   "id": "b7ce18e9",
   "metadata": {},
   "outputs": [
    {
     "data": {
      "image/png": "[encoded data removed]",
      "text/plain": [
       "<Figure size 800x600 with 1 Axes>"
      ]
     },
     "metadata": {},
     "output_type": "display_data"
    }
   ],
   "source": [
    "# ---\n",
    "# ## 8. Visualize Word Embeddings (PCA)\n",
    "\n",
    "from sklearn.decomposition import PCA\n",
    "import matplotlib.pyplot as plt\n",
    "\n",
    "# Reduce dimensions from hidden layer (100) → 2D\n",
    "pca = PCA(n_components=2)\n",
    "reduced_vectors = pca.fit_transform(embedded_vectors)\n",
    "\n",
    "# Plot embeddings\n",
    "plt.figure(figsize=(8, 6))\n",
    "for word, idx in word_to_index.items():\n",
    "    x, y = reduced_vectors[idx]\n",
    "    plt.scatter(x, y)\n",
    "    plt.text(x + 0.02, y + 0.02, word, fontsize=12)\n",
    "\n",
    "plt.title(\"Word Embeddings Visualization (PCA)\")\n",
    "plt.xlabel(\"PC1\")\n",
    "plt.ylabel(\"PC2\")\n",
    "plt.grid(True)\n",
    "plt.show()\n"
   ]
  }
 ],
 "metadata": {
  "kernelspec": {
   "display_name": "Python 3",
   "language": "python",
   "name": "python3"
  },
  "language_info": {
   "codemirror_mode": {
    "name": "ipython",
    "version": 3
   },
   "file_extension": ".py",
   "mimetype": "text/x-python",
   "name": "python",
   "nbconvert_exporter": "python",
   "pygments_lexer": "ipython3",
   "version": "3.13.3"
  }
 },
 "nbformat": 4,
 "nbformat_minor": 5
}
